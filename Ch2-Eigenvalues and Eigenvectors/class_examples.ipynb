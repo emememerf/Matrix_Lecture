{
 "cells": [
  {
   "cell_type": "code",
   "execution_count": 74,
   "metadata": {},
   "outputs": [
    {
     "name": "stdout",
     "output_type": "stream",
     "text": [
      "(array([5., 3.]), array([[ 0.70710678, -0.70710678],\n",
      "       [ 0.70710678,  0.70710678]]))\n"
     ]
    },
    {
     "data": {
      "image/png": "[encoded data removed]",
      "text/plain": [
       "<Figure size 432x288 with 1 Axes>"
      ]
     },
     "metadata": {
      "needs_background": "light"
     },
     "output_type": "display_data"
    }
   ],
   "source": [
    "import numpy as np\n",
    "A = np.array([[4,1],[1,4]])\n",
    "A_eigens = np.linalg.eig(A)\n",
    "print(A_eigens)\n",
    "%matplotlib inline\n",
    "import matplotlib.pyplot as plt\n",
    "def plot_vector2d(vector2d, origin=[0, 0], **options):\n",
    "    return plt.arrow(origin[0], origin[1], \n",
    "                     vector2d[0], vector2d[1],\n",
    "                     head_width=0.2, head_length=0.3, \n",
    "                     length_includes_head=True,**options)\n",
    "\n",
    "vector_original_1 = np.array([[1],[0]])\n",
    "vector_original_2 = np.array([[0],[1]])\n",
    "vector_original_3 = np.array([[0],[-1]])\n",
    "vector_original_4 = np.array([[-1],[0]])\n",
    "\n",
    "vector_transformed_1 = np.matmul(A,vector_original_1).T[0]\n",
    "vector_transformed_2 = np.matmul(A,vector_original_2).T[0]\n",
    "vector_transformed_3 = np.matmul(A,vector_original_3).T[0]\n",
    "vector_transformed_4 = A.dot(vector_original_4).T[0]\n",
    "\n",
    "plot_vector2d(A_eigens[1][0]*A_eigens[0][1], color=\"r\", label=f\"Eigenvalue={A_eigens[0][1]}\", linestyle=\"dotted\")\n",
    "plot_vector2d(A_eigens[1][1]*A_eigens[0][0], color=\"b\", label=f\"Eigenvalue={A_eigens[0][0]}\", linestyle=\"dotted\")\n",
    "\n",
    "plot_vector2d(vector_original_1.T[0], color=\"k\", label=\"(1, 0)\")\n",
    "plot_vector2d(vector_original_2.T[0], color=\"g\", label=\"(0, 1)\")\n",
    "plot_vector2d(vector_original_3.T[0], color=\"y\", label=\"(0, -1)\")\n",
    "plot_vector2d(vector_original_4.T[0], color=\"m\", label=\"(-1, 0)\")\n",
    "\n",
    "# plot_vector2d(vector_transformed_1, color=\"k\", label=\"(1, 0) transformed\")\n",
    "# plot_vector2d(vector_transformed_2, color=\"g\", label=\"(0, 1) transformed\")\n",
    "# plot_vector2d(vector_transformed_3, color=\"y\", label=\"(0, -1) transformed\")\n",
    "# plot_vector2d(vector_transformed_4, color=\"m\", label=\"(-1, 0) transformed\")\n",
    "# plt.axis([-10, 10, -10, 10])\n",
    "plt.axis('equal')\n",
    "x_ticks = np.arange(-8, 8, 1)\n",
    "y_ticks = np.arange(-5, 5, 1)\n",
    "plt.xticks(x_ticks)\n",
    "plt.yticks(y_ticks)\n",
    "# plt.grid(axis='x', linewidth=1, linestyle='--', color='0.75')\n",
    "# plt.grid(axis='y', linewidth=1, linestyle='--', color='0.75')\n",
    "plt.legend()\n",
    "plt.grid()\n",
    "# plt.show()\n",
    "plt.savefig('Fig_00.png', dpi=300)"
   ]
  },
  {
   "cell_type": "code",
   "execution_count": 48,
   "metadata": {
    "scrolled": false
   },
   "outputs": [
    {
     "name": "stdout",
     "output_type": "stream",
     "text": [
      "(array([1., 0., 0.]), array([[1., 0., 0.],\n",
      "       [0., 1., 0.],\n",
      "       [0., 0., 1.]]))\n"
     ]
    }
   ],
   "source": [
    "import numpy as np\n",
    "A = np.array([[1,0,0],[0,0,0],[0,0,0]])\n",
    "A_eigens = np.linalg.eig(A)\n",
    "print(A_eigens)"
   ]
  },
  {
   "cell_type": "code",
   "execution_count": 71,
   "metadata": {},
   "outputs": [
    {
     "name": "stdout",
     "output_type": "stream",
     "text": [
      "[ 0.70710678 -0.70710678]\n",
      "[ 2.12132034 -2.12132034]\n",
      "[0.70710678 0.70710678]\n",
      "[3.53553391 3.53553391]\n"
     ]
    }
   ],
   "source": [
    "import numpy as np\n",
    "A = np.array([[4,1],[1,4]])\n",
    "A_eigens = np.linalg.eig(A)\n",
    "print(A_eigens[1][0])\n",
    "print(A.dot(A_eigens[1][0]))\n",
    "print(A_eigens[1][1])\n",
    "print(A.dot(A_eigens[1][1]))"
   ]
  },
  {
   "cell_type": "markdown",
   "metadata": {},
   "source": [
    "### https://github.com/HowDoIUseThis/GershgorinCircles/blob/master/EAprox.py"
   ]
  },
  {
   "cell_type": "code",
   "execution_count": 52,
   "metadata": {},
   "outputs": [
    {
     "data": {
      "image/png": "[encoded data removed]",
      "text/plain": [
       "<Figure size 432x288 with 1 Axes>"
      ]
     },
     "metadata": {
      "needs_background": "light"
     },
     "output_type": "display_data"
    }
   ],
   "source": [
    "import numpy as np\n",
    "from math import fabs\n",
    "import matplotlib.pyplot as plt\n",
    "from numpy import linalg as LA\n",
    "\n",
    "def GregsCircles(matrix):\n",
    "    if isSquare(matrix) != True:\n",
    "        print('Your input matrix is not square!')\n",
    "        return []\n",
    "    circles = []\n",
    "    for x in range(0,len(matrix)):\n",
    "        radius = 0\n",
    "        piv = matrix[x][x]\n",
    "        for y in range(0,len(matrix)):\n",
    "            if x != y:\n",
    "                radius += fabs(matrix[x][y])\n",
    "        circles.append([piv,radius])\n",
    "    return circles\n",
    "\n",
    "def plotCircles(circles):\n",
    "    index, radi = zip(*circles)\n",
    "    Xupper = max(index) + np.std(index)\n",
    "    Xlower = min(index) - np.std(index)\n",
    "    Ylimit = max(radi) + np.std(index)\n",
    "    fig, ax = plt.subplots() \n",
    "    ax = plt.gca()\n",
    "    ax.cla()\n",
    "    ax.set_xlim((Xlower,Xupper))\n",
    "    ax.set_ylim((-Ylimit,Ylimit))\n",
    "    plt.xlabel('Real Axis')\n",
    "    plt.ylabel('Imaginary Axis')\n",
    "    plt.title('Gershgorin circles')\n",
    "    for x in range(0,len(circles)):\n",
    "        circ = plt.Circle((index[x],0), radius = radi[x])\n",
    "        ax.add_artist(circ)\n",
    "    ax.plot([Xlower,Xupper],[0,0],'k--')\n",
    "    ax.plot([0,0],[-Ylimit,Ylimit],'k--')\n",
    "    fig.savefig('plotcircles.png')\n",
    "    \n",
    "def isSquare(m):\n",
    "    cols = len(m)\n",
    "    for row in m:\n",
    "        if len(row) != cols:\n",
    "            return False\n",
    "    return True\n",
    "\n",
    "def main():\n",
    "    test = np.array([[10,-1,0,1],[0.2,8,0.2,0.2],[1,1,2,1],[-1,-1,-1,-11]])\n",
    "    temp = GregsCircles(test)\n",
    "    plotCircles(temp)\n",
    "\n",
    "if __name__ == '__main__':\n",
    "    main()"
   ]
  },
  {
   "cell_type": "markdown",
   "metadata": {},
   "source": [
    "### https://blog.csdn.net/jclian91/article/details/80213733"
   ]
  },
  {
   "cell_type": "code",
   "execution_count": 66,
   "metadata": {
    "scrolled": true
   },
   "outputs": [
    {
     "data": {
      "image/png": "[encoded data removed]",
      "text/plain": [
       "<Figure size 432x288 with 1 Axes>"
      ]
     },
     "metadata": {
      "needs_background": "light"
     },
     "output_type": "display_data"
    }
   ],
   "source": [
    "# Plotting Gershgorin Circles for any square matrix\n",
    "from matplotlib.patches import Circle\n",
    "import matplotlib.pyplot as plt\n",
    "from math import sqrt\n",
    "import numpy as np\n",
    "\n",
    "def linestyle_generator(type_or_color, color_num):\n",
    "    from itertools import cycle\n",
    "    bgrcmyk = ['or', 'sb', 'dg', '*c', '^m', 'hy', 'Vk']\n",
    "    sddd = [\"-\", \"--\", \"-.\", \":\"]  # \"solid\", \"dashed\",, \"dashdot\" \"dotted\"\n",
    "    style_list = []\n",
    "    if type_or_color.lower() == 'type':\n",
    "        cycle_list = cycle(sddd)\n",
    "    elif type_or_color.lower() == 'color':\n",
    "        cycle_list = cycle(bgrcmyk)\n",
    "    else:\n",
    "        warnings.warn('Only \"type\" or \"color\" is allowed here')  # raise?\n",
    "\n",
    "    for i in range(color_num):\n",
    "        style_list.append(next(cycle_list))\n",
    "    return style_list\n",
    "# example matrix, each entity can be complex number\n",
    "# A = np.array([[5, 0, 0, -1],\n",
    "#               [1, 0, -1, 0],\n",
    "#               [-1.5, 1, -2, 1],\n",
    "#               [-1, 1, 1, -3j]\n",
    "#              ],dtype='complex')\n",
    "A = np.array([[10,-1,0,1],[0.2,8,0.2,0.2],[1,1,2,1],[-1,-1,-1,-11]])\n",
    "A_eigens = np.linalg.eig(A)[0]\n",
    "color_list = linestyle_generator('color', len(A_eigens))\n",
    "# begin plotting figure\n",
    "fig, ax = plt.subplots() \n",
    "# Circle: |A[i,i]-z| <= sum(|A[i,j]| for j in range(n) and j != i)\n",
    "for i in range(A.shape[0]):\n",
    "    real = A[i,i].real    # each complex's real part\n",
    "    imag = A[i,i].imag    # each complex's image part\n",
    "\n",
    "    # calculate the radius of each circle\n",
    "    radius = -sqrt(A[i,i].real**2+A[i,i].imag**2)\n",
    "    for j in range(A.shape[0]):\n",
    "        radius += sqrt(A[i,j].real**2+A[i,j].imag**2)\n",
    "\n",
    "    # add the circle to the  figure and plot the center of the circle\n",
    "    cir = Circle(xy = (real,imag), radius=radius, alpha=0.5, fill='yellow')\n",
    "    ax.add_patch(cir)\n",
    "    x, y = A_eigens[i], imag\n",
    "    ax.plot(x, y, color_list[i], label=f'EigenValue={x:.3f}')\n",
    "plt.legend()\n",
    "plt.xlabel('Real Axis')\n",
    "plt.ylabel('Imaginary Axis')    \n",
    "ax.axis('equal')\n",
    "# title\n",
    "plt.title(\"Gershgorin Circles of Matrix\")\n",
    "\n",
    "# show the figure which can be used for analyse eigenvalues of the matrix\n",
    "plt.savefig(\"Fig_GerschgorinCircles.png\")"
   ]
  },
  {
   "cell_type": "markdown",
   "metadata": {},
   "source": [
    "### https://blog.csdn.net/hqh131360239/article/details/79061535?utm_medium=distribute.pc_relevant.none-task-blog-BlogCommendFromMachineLearnPai2-1.add_param_isCf&depth_1-utm_source=distribute.pc_relevant.none-task-blog-BlogCommendFromMachineLearnPai2-1.add_param_isCf"
   ]
  },
  {
   "cell_type": "code",
   "execution_count": 90,
   "metadata": {},
   "outputs": [
    {
     "name": "stdout",
     "output_type": "stream",
     "text": [
      "The random integer matrix is [[-6  3  4]\n",
      " [-8  4  7]], with dimension of 2 by 3\n",
      "默认参数(矩阵整体元素平方和开根号，不保留矩阵二维特性)： 13.784048752090222\n",
      "矩阵整体元素平方和开根号，保留矩阵二维特性： [[13.78404875]]\n",
      "矩阵每个行向量求向量的2范数： [[ 7.81024968]\n",
      " [11.35781669]]\n",
      "矩阵每个列向量求向量的2范数： [[10.          5.          8.06225775]]\n",
      "矩阵1范数： [[14.]]\n",
      "矩阵2范数： [[13.76008035]]\n",
      "矩阵∞范数： [[19.]]\n",
      "矩阵每个行向量求向量的1范数： [[13.]\n",
      " [19.]]\n"
     ]
    }
   ],
   "source": [
    "import numpy as np\n",
    "A = np.random.randint(-10, 10, size=(2, 3))\n",
    "m, n = A.shape\n",
    "\n",
    "print(f'The random integer matrix is {A}, with dimension of {m} by {n}')\n",
    "#默认参数ord=None，axis=None，keepdims=False\n",
    "print(\"默认参数(矩阵整体元素平方和开根号，不保留矩阵二维特性)：\",np.linalg.norm(A))\n",
    "print(\"矩阵整体元素平方和开根号，保留矩阵二维特性：\",np.linalg.norm(A,keepdims=True))\n",
    " \n",
    "print(\"矩阵每个行向量求向量的2范数：\",np.linalg.norm(A,axis=1,keepdims=True))\n",
    "print(\"矩阵每个列向量求向量的2范数：\",np.linalg.norm(A,axis=0,keepdims=True))\n",
    " \n",
    "print(\"矩阵1范数：\",np.linalg.norm(A,ord=1,keepdims=True))\n",
    "print(\"矩阵2范数：\",np.linalg.norm(A,ord=2,keepdims=True))\n",
    "print(\"矩阵∞范数：\",np.linalg.norm(A,ord=np.inf,keepdims=True))\n",
    " \n",
    "print(\"矩阵每个行向量求向量的1范数：\",np.linalg.norm(A,ord=1,axis=1,keepdims=True))"
   ]
  },
  {
   "cell_type": "code",
   "execution_count": 88,
   "metadata": {},
   "outputs": [
    {
     "name": "stdout",
     "output_type": "stream",
     "text": [
      "[[1 4]\n",
      " [0 1]]\n"
     ]
    }
   ],
   "source": [
    "import numpy as np\n",
    "A = np.array([[1,1],[0,1]])\n",
    "A_eigens = np.linalg.eig(A)\n",
    "print(A.dot(A).dot(A).dot(A))"
   ]
  },
  {
   "cell_type": "code",
   "execution_count": null,
   "metadata": {},
   "outputs": [],
   "source": []
  }
 ],
 "metadata": {
  "kernelspec": {
   "display_name": "Python 3",
   "language": "python",
   "name": "python3"
  },
  "language_info": {
   "codemirror_mode": {
    "name": "ipython",
    "version": 3
   },
   "file_extension": ".py",
   "mimetype": "text/x-python",
   "name": "python",
   "nbconvert_exporter": "python",
   "pygments_lexer": "ipython3",
   "version": "3.8.5"
  }
 },
 "nbformat": 4,
 "nbformat_minor": 4
}
