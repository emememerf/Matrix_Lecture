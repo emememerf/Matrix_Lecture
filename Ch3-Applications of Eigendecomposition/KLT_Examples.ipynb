{
 "cells": [
  {
   "cell_type": "markdown",
   "metadata": {},
   "source": [
    "https://zhuanlan.zhihu.com/p/87481178"
   ]
  },
  {
   "cell_type": "code",
   "execution_count": 1,
   "metadata": {},
   "outputs": [
    {
     "name": "stdout",
     "output_type": "stream",
     "text": [
      "omega_1_tra2: [[0. 1. 1. 1.]\n",
      " [0. 0. 0. 1.]]\n",
      "omega_2_tra2: [[0. 0. 0. 1.]\n",
      " [0. 1. 1. 1.]]\n",
      "omega_1_tra1: [[0. 1. 1. 1.]]\n",
      "omega_2_tra1: [[0. 0. 0. 1.]]\n"
     ]
    }
   ],
   "source": [
    "import numpy as np\n",
    "\n",
    "omega_1 = np.array([[0,0,0],[1,0,0],[1,0,1],[1,1,0]]).T\n",
    "omega_2 = np.array([[0,0,1],[0,1,0],[0,1,1],[1,1,1]]).T\n",
    "\n",
    "#  将Omega_1和Omega_2两种模式作为一个整体考虑\n",
    "x = np.concatenate((omega_1,omega_2),axis = 1)\n",
    "#  求取均值(写作业要用到)\n",
    "m = np.mean(x,axis = 1)\n",
    "#  求取协方差矩阵\n",
    "C = np.cov(x,bias=True)\n",
    "#  求取协方差矩阵的特征值、特征向量\n",
    "lamda,phi = np.linalg.eig(C)\n",
    "#  对特征值从大到小排序\n",
    "sort_lamda = -np.sort(-lamda)\n",
    "#  从大到小排序，输出原始序列的索引\n",
    "sort_index = np.argsort(-lamda)\n",
    "\n",
    "#  降到2维，从大到小选取前2个特征向量\n",
    "Selected_phi2 = np.concatenate((phi[:,sort_index[0]].reshape(3,1),\n",
    "                               phi[:,sort_index[1]].reshape(3,1)),axis=1)\n",
    "omega_1_tra2 = np.dot(Selected_phi2.T,omega_1)\n",
    "omega_2_tra2 = np.dot(Selected_phi2.T,omega_2)\n",
    "print('omega_1_tra2:',omega_1_tra2)\n",
    "print('omega_2_tra2:',omega_2_tra2)\n",
    "#  降到1维，从大到小选取前1个特征向量\n",
    "Selected_phi1 = phi[:,sort_index[0]].reshape(3,1)\n",
    "omega_1_tra1 = np.dot(Selected_phi1.T,omega_1)\n",
    "omega_2_tra1 = np.dot(Selected_phi1.T,omega_2)\n",
    "print('omega_1_tra1:',omega_1_tra1)\n",
    "print('omega_2_tra1:',omega_2_tra1)"
   ]
  },
  {
   "cell_type": "code",
   "execution_count": null,
   "metadata": {},
   "outputs": [],
   "source": []
  }
 ],
 "metadata": {
  "kernelspec": {
   "display_name": "Python 3",
   "language": "python",
   "name": "python3"
  },
  "language_info": {
   "codemirror_mode": {
    "name": "ipython",
    "version": 3
   },
   "file_extension": ".py",
   "mimetype": "text/x-python",
   "name": "python",
   "nbconvert_exporter": "python",
   "pygments_lexer": "ipython3",
   "version": "3.8.5"
  }
 },
 "nbformat": 4,
 "nbformat_minor": 4
}
