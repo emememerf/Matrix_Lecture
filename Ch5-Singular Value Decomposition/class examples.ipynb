{
 "cells": [
  {
   "cell_type": "code",
   "execution_count": null,
   "metadata": {},
   "outputs": [],
   "source": [
    "import numpy as np\n",
    "A = np.array([[4,1],[1,4]])\n",
    "A_eigens = np.linalg.eig(A)\n",
    "print(A_eigens)\n",
    "%matplotlib inline\n",
    "import matplotlib.pyplot as plt\n",
    "def plot_vector2d(vector2d, origin=[0, 0], **options):\n",
    "    return plt.arrow(origin[0], origin[1], \n",
    "                     vector2d[0], vector2d[1],\n",
    "                     head_width=0.2, head_length=0.3, \n",
    "                     length_includes_head=True,**options)\n",
    "\n",
    "vector_original_1 = np.array([[1],[0]])\n",
    "vector_original_2 = np.array([[0],[1]])\n",
    "vector_original_3 = np.array([[0],[-1]])\n",
    "vector_original_4 = np.array([[-1],[0]])\n",
    "\n",
    "vector_transformed_1 = np.matmul(A,vector_original_1).T[0]\n",
    "vector_transformed_2 = np.matmul(A,vector_original_2).T[0]\n",
    "vector_transformed_3 = np.matmul(A,vector_original_3).T[0]\n",
    "vector_transformed_4 = A.dot(vector_original_4).T[0]\n",
    "\n",
    "plot_vector2d(A_eigens[1][0]*A_eigens[0][1], color=\"r\", label=f\"Eigenvalue={A_eigens[0][1]}\", linestyle=\"dotted\")\n",
    "plot_vector2d(A_eigens[1][1]*A_eigens[0][0], color=\"b\", label=f\"Eigenvalue={A_eigens[0][0]}\", linestyle=\"dotted\")\n",
    "\n",
    "plot_vector2d(vector_original_1.T[0], color=\"k\", label=\"(1, 0)\")\n",
    "plot_vector2d(vector_original_2.T[0], color=\"g\", label=\"(0, 1)\")\n",
    "plot_vector2d(vector_original_3.T[0], color=\"y\", label=\"(0, -1)\")\n",
    "plot_vector2d(vector_original_4.T[0], color=\"m\", label=\"(-1, 0)\")\n",
    "\n",
    "# plot_vector2d(vector_transformed_1, color=\"k\", label=\"(1, 0) transformed\")\n",
    "# plot_vector2d(vector_transformed_2, color=\"g\", label=\"(0, 1) transformed\")\n",
    "# plot_vector2d(vector_transformed_3, color=\"y\", label=\"(0, -1) transformed\")\n",
    "# plot_vector2d(vector_transformed_4, color=\"m\", label=\"(-1, 0) transformed\")\n",
    "# plt.axis([-10, 10, -10, 10])\n",
    "plt.axis('equal')\n",
    "x_ticks = np.arange(-8, 8, 1)\n",
    "y_ticks = np.arange(-5, 5, 1)\n",
    "plt.xticks(x_ticks)\n",
    "plt.yticks(y_ticks)\n",
    "# plt.grid(axis='x', linewidth=1, linestyle='--', color='0.75')\n",
    "# plt.grid(axis='y', linewidth=1, linestyle='--', color='0.75')\n",
    "plt.legend()\n",
    "plt.grid()\n",
    "# plt.show()\n",
    "plt.savefig('Fig_00.png', dpi=300)"
   ]
  },
  {
   "cell_type": "code",
   "execution_count": 3,
   "metadata": {},
   "outputs": [
    {
     "name": "stdout",
     "output_type": "stream",
     "text": [
      "(array([[-5.77350269e-01, -5.04179082e-17,  8.16496581e-01],\n",
      "       [-5.77350269e-01, -7.07106781e-01, -4.08248290e-01],\n",
      "       [-5.77350269e-01,  7.07106781e-01, -4.08248290e-01]]), array([4., 1., 1.]), array([[-0.57735027, -0.57735027, -0.57735027],\n",
      "       [ 0.        , -0.70710678,  0.70710678],\n",
      "       [ 0.81649658, -0.40824829, -0.40824829]]))\n"
     ]
    }
   ],
   "source": [
    "import numpy as np\n",
    "A = np.array([[2,1,1],[1,2,1],[1,1,2]])\n",
    "A_svd = np.linalg.svd(A)\n",
    "print(A_svd)"
   ]
  },
  {
   "cell_type": "code",
   "execution_count": null,
   "metadata": {},
   "outputs": [],
   "source": []
  }
 ],
 "metadata": {
  "kernelspec": {
   "display_name": "Python 3",
   "language": "python",
   "name": "python3"
  },
  "language_info": {
   "codemirror_mode": {
    "name": "ipython",
    "version": 3
   },
   "file_extension": ".py",
   "mimetype": "text/x-python",
   "name": "python",
   "nbconvert_exporter": "python",
   "pygments_lexer": "ipython3",
   "version": "3.8.5"
  }
 },
 "nbformat": 4,
 "nbformat_minor": 4
}
