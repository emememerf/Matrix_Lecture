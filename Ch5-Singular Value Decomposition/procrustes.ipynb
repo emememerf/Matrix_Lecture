{
 "cells": [
  {
   "cell_type": "markdown",
   "metadata": {},
   "source": [
    "### https://stackoverflow.com/questions/18925181/procrustes-analysis-with-numpy"
   ]
  },
  {
   "cell_type": "code",
   "execution_count": 7,
   "metadata": {},
   "outputs": [
    {
     "name": "stdout",
     "output_type": "stream",
     "text": [
      "0.0 [[1. 3.]\n",
      " [1. 2.]\n",
      " [1. 1.]\n",
      " [2. 1.]] {'rotation': array([[-1.00000000e+00,  8.87159524e-18],\n",
      "       [-1.17202444e-17,  1.00000000e+00]]), 'scale': 0.5, 'translation': array([3., 4.])}\n"
     ]
    }
   ],
   "source": [
    "def procrustes(X, Y, scaling=True, reflection='best'):\n",
    "    import numpy as np\n",
    "    n,m = X.shape\n",
    "    ny,my = Y.shape\n",
    "    muX = X.mean(0)\n",
    "    muY = Y.mean(0)\n",
    "    X0 = X - muX\n",
    "    Y0 = Y - muY\n",
    "    ssX = (X0**2.).sum()\n",
    "    ssY = (Y0**2.).sum()\n",
    "    # centred Frobenius norm\n",
    "    normX = np.sqrt(ssX)\n",
    "    normY = np.sqrt(ssY)\n",
    "    # scale to equal (unit) norm\n",
    "    X0 /= normX\n",
    "    Y0 /= normY\n",
    "    if my < m:\n",
    "        Y0 = np.concatenate((Y0, np.zeros(n, m-my)),0)\n",
    "    # optimum rotation matrix of Y\n",
    "    A = np.dot(X0.T, Y0)\n",
    "    U,s,Vt = np.linalg.svd(A,full_matrices=False)\n",
    "    V = Vt.T\n",
    "    T = np.dot(V, U.T)\n",
    "    if reflection != 'best':\n",
    "        # does the current solution use a reflection?\n",
    "        have_reflection = np.linalg.det(T) < 0\n",
    "        # if that's not what was specified, force another reflection\n",
    "        if reflection != have_reflection:\n",
    "            V[:,-1] *= -1\n",
    "            s[-1] *= -1\n",
    "            T = np.dot(V, U.T)\n",
    "    traceTA = s.sum()\n",
    "    if scaling:\n",
    "        # optimum scaling of Y\n",
    "        b = traceTA * normX / normY\n",
    "        # standarised distance between X and b*Y*T + c\n",
    "        d = 1 - traceTA**2\n",
    "        # transformed coords\n",
    "        Z = normX*traceTA*np.dot(Y0, T) + muX\n",
    "    else:\n",
    "        b = 1\n",
    "        d = 1 + ssY/ssX - 2 * traceTA * normY / normX\n",
    "        Z = normY*np.dot(Y0, T) + muX\n",
    "    # transformation matrix\n",
    "    if my < m:\n",
    "        T = T[:my,:]\n",
    "    c = muX - b*np.dot(muY, T)\n",
    "    #transformation values \n",
    "    tform = {'rotation':T, 'scale':b, 'translation':c}\n",
    "    return d, Z, tform\n",
    "import numpy as np\n",
    "a = np.array([[1, 3], [1, 2], [1, 1], [2, 1]], 'd')\n",
    "b = np.array([[4, -2], [4, -4], [4, -6], [2, -6]], 'd')\n",
    "d, Z, tform = procrustes(a, b, scaling=True, reflection='best')\n",
    "print(d, Z, tform)"
   ]
  },
  {
   "cell_type": "code",
   "execution_count": 8,
   "metadata": {},
   "outputs": [
    {
     "name": "stdout",
     "output_type": "stream",
     "text": [
      "[[-0.13363062  0.6681531 ]\n",
      " [-0.13363062  0.13363062]\n",
      " [-0.13363062 -0.40089186]\n",
      " [ 0.40089186 -0.40089186]] [[-0.13363062  0.6681531 ]\n",
      " [-0.13363062  0.13363062]\n",
      " [-0.13363062 -0.40089186]\n",
      " [ 0.40089186 -0.40089186]] 1.4637067577342992e-32\n"
     ]
    }
   ],
   "source": [
    "from scipy.spatial import procrustes\n",
    "import numpy as np\n",
    "a = np.array([[1, 3], [1, 2], [1, 1], [2, 1]], 'd')\n",
    "b = np.array([[4, -2], [4, -4], [4, -6], [2, -6]], 'd')\n",
    "mtx1, mtx2, disparity = procrustes(a, b)\n",
    "print(mtx1, mtx2, disparity)"
   ]
  },
  {
   "cell_type": "code",
   "execution_count": null,
   "metadata": {},
   "outputs": [],
   "source": []
  }
 ],
 "metadata": {
  "kernelspec": {
   "display_name": "Python 3",
   "language": "python",
   "name": "python3"
  },
  "language_info": {
   "codemirror_mode": {
    "name": "ipython",
    "version": 3
   },
   "file_extension": ".py",
   "mimetype": "text/x-python",
   "name": "python",
   "nbconvert_exporter": "python",
   "pygments_lexer": "ipython3",
   "version": "3.8.5"
  }
 },
 "nbformat": 4,
 "nbformat_minor": 4
}
