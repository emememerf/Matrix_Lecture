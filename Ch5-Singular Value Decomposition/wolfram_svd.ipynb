{
 "cells": [
  {
   "cell_type": "code",
   "execution_count": 3,
   "metadata": {},
   "outputs": [
    {
     "data": {
      "text/html": [
       "<style>\n",
       "\t\t\t\t\t\t\t\t\t\t\t\t\t.grid-container {\n",
       "\t\t\t\t\t\t\t\t\t\t\t\t\t\tdisplay: inline-grid;\n",
       "\t\t\t\t\t\t\t\t\t\t\t\t\t\tgrid-template-columns: auto;\n",
       "\t\t\t\t\t\t\t\t\t\t\t\t\t}\n",
       "\t\t\t\t\t\t\t\t\t\t\t\t</style>\n",
       "\n",
       "\t\t\t\t\t\t\t\t\t\t\t\t<div><div class=\"grid-container\"><div class=\"grid-item\"><img alt=\"Output\" src=\"data:image/png;base64,iVBORw0KGgoAAAANSUhEUgAAAG0AAAAPCAIAAABhptZQAAAAp3pUWHRSYXcgcHJvZmlsZSB0eXBlIGV4aWYAAHjaVU7bDQMhDPtnio6QFw6Mg66c1A06fs0drVQDiWPZEWW+X2d5LKi1EjUbOiBE9Og2SJrccF4VFWOPLdmvX7puvdwrRGy0JkvUveS7bCM8DRWawRommejkjYwVtZjUxIkDoFHxNImDfSKTMSSqiY8VXLCZ/+4J5/zkj9xcrjdceQY5GJVLuXXxSuMHN0g5mimNxpwAAAAJcEhZcwAACxMAAAsTAQCanBgAAAA8dEVYdFNvZnR3YXJlAENyZWF0ZWQgd2l0aCB0aGUgV29sZnJhbSBMYW5ndWFnZSA6IHd3dy53b2xmcmFtLmNvbVyipoUAAAAhdEVYdENyZWF0aW9uIFRpbWUAMjAyMDoxMToyNiAwMDoyMDowNXpefB8AAAHPSURBVFiF7Vg7coMwFHzK5ChA4fEJ8AmgSuUjiJI07lLmAHKJO7dUbiydgJyASQHcRSlI+OjnJ3/GMxm2fOitlkVaaSBSSlhwM16eLeCfYPHxPlh8vA8mPnb7DSEkE+oQrS4y8ofNvkNP1fOoXbZZfTi1bk/SURmZtaEdAQA5gHMuTbDVpWxZDDFrLU8VFgpA+dBGZ5ycIVlQ2jiFmFJ1Dgd0QQht8/rN+3odBZhh4nSI2S4BAOjO5RccTleuwMszZWnNjrvVg+gtuM7H350dltu2SDANXVP3jouMhOWWUagbfCJ4KUtrdsxR33aGQ+qfVBOMPoqmCY3KDPWk6Ffzx3foE20iIylwWeWRyhfB+Rr5qjaRpcArbxeDvBp2OLyH8zeyaVPq7oRwJofsowgVbZwCDEMNATmmJxoaS8ti7W2x8T3lUHps2mb1m84Z1UZOwWrHZKguzJjlLraL2jSTMWz9KNXGR50zk2vP56qd7qJwFYPtBEmKdluGhBBC0pphYtXF5g8X23jvSWvW+ucCALz6tySFlIXxSRCtAdZvFouCvJK5xzxutkvNeTX/b+Bi81VmgrLyDUvfVtc3kn8c2fqwbM/QZqwTufzvuQd+AEGx/sBINzgDAAAAAElFTkSuQmCC\"></div><div class=\"grid-item\"><img alt=\"Output\" src=\"data:image/png;base64,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\"></div></div></div>"
      ],
      "text/plain": [
       "{{3, 0}, {4, 5}}\n",
       "      1         -3          3         1\n",
       "{{{--------, --------}, {--------, --------}}, {{3 Sqrt[5], 0}, {0, Sqrt[5]}}, \n",
       "   Sqrt[10]  Sqrt[10]    Sqrt[10]  Sqrt[10]\n",
       " \n",
       "         1          1           1        1\n",
       ">   {{-------, -(-------)}, {-------, -------}}}\n",
       "      Sqrt[2]    Sqrt[2]     Sqrt[2]  Sqrt[2]"
      ]
     },
     "execution_count": 3,
     "metadata": {
      "text/html": [],
      "text/plain": []
     },
     "output_type": "execute_result"
    }
   ],
   "source": [
    "A1 = {{3,0}, {4, 5}}\n",
    "SingularValueDecomposition[A1]"
   ]
  },
  {
   "cell_type": "code",
   "execution_count": null,
   "metadata": {},
   "outputs": [],
   "source": []
  }
 ],
 "metadata": {
  "kernelspec": {
   "display_name": "Wolfram Language 12.1",
   "language": "Wolfram Language",
   "name": "wolframlanguage12.1"
  },
  "language_info": {
   "codemirror_mode": "mathematica",
   "file_extension": ".m",
   "mimetype": "application/vnd.wolfram.m",
   "name": "Wolfram Language",
   "pygments_lexer": "mathematica",
   "version": "12.0"
  }
 },
 "nbformat": 4,
 "nbformat_minor": 4
}
