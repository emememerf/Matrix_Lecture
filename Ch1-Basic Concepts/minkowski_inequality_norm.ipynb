{
 "cells": [
  {
   "cell_type": "code",
   "execution_count": 1,
   "metadata": {},
   "outputs": [
    {
     "name": "stdout",
     "output_type": "stream",
     "text": [
      "p=2 norms of xa, xb, and xab are 2.8284271247461903, 1.0, 3.605551275463989\n"
     ]
    }
   ],
   "source": [
    "import numpy as np\n",
    "def p_norm(x_vector, p):\n",
    "    x_vector_norm = 0\n",
    "    for x_entry in x_vector:\n",
    "        x_vector_norm += np.abs(x_entry)**p\n",
    "    x_vector_norm = x_vector_norm**(1/p)\n",
    "    return x_vector_norm\n",
    "\n",
    "norm_p = 2\n",
    "xa = np.array([2, 2])\n",
    "xb = np.array([0, 1])\n",
    "xa_norm = p_norm(xa, norm_p)\n",
    "xb_norm = p_norm(xb, norm_p)\n",
    "xab = xa + xb\n",
    "xab_norm = p_norm(xab, norm_p)\n",
    "print(f\"p={norm_p} norms of xa, xb, and xab are {xa_norm}, {xb_norm}, {xab_norm}\")"
   ]
  }
 ],
 "metadata": {
  "kernelspec": {
   "display_name": "Python 3",
   "language": "python",
   "name": "python3"
  },
  "language_info": {
   "codemirror_mode": {
    "name": "ipython",
    "version": 3
   },
   "file_extension": ".py",
   "mimetype": "text/x-python",
   "name": "python",
   "nbconvert_exporter": "python",
   "pygments_lexer": "ipython3",
   "version": "3.8.5"
  }
 },
 "nbformat": 4,
 "nbformat_minor": 4
}
